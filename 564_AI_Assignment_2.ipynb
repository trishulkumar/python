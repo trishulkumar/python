{
  "nbformat": 4,
  "nbformat_minor": 0,
  "metadata": {
    "colab": {
      "name": "564_AI_Assignment_2.ipynb",
      "provenance": [],
      "authorship_tag": "ABX9TyN1Gf+zaaEuI5m3WiVBNG+r",
      "include_colab_link": true
    },
    "kernelspec": {
      "name": "python3",
      "display_name": "Python 3"
    }
  },
  "cells": [
    {
      "cell_type": "markdown",
      "metadata": {
        "id": "view-in-github",
        "colab_type": "text"
      },
      "source": [
        "<a href=\"https://colab.research.google.com/github/trishulkumar/python/blob/master/564_AI_Assignment_2.ipynb\" target=\"_parent\"><img src=\"https://colab.research.google.com/assets/colab-badge.svg\" alt=\"Open In Colab\"/></a>"
      ]
    },
    {
      "cell_type": "markdown",
      "metadata": {
        "id": "SORuNqHTK1Un",
        "colab_type": "text"
      },
      "source": [
        "1.\tArea of Triangle :\n",
        "Given the lengths of three sides of a triangle, calculate the area of the triangle\n"
      ]
    },
    {
      "cell_type": "code",
      "metadata": {
        "id": "B_DswZp2IMZ1",
        "colab_type": "code",
        "colab": {
          "base_uri": "https://localhost:8080/",
          "height": 102
        },
        "outputId": "70f17593-ac3c-4cc0-da0c-1c7a1bb4f719"
      },
      "source": [
        "\n",
        "#with 3 sides \n",
        "a=int(input(\"Enter side1:\"))\n",
        "b=int(input(\"Enter side2:\"))\n",
        "c=int(input(\"Enter side3:\"))\n",
        "s=float((a+b+c)/2)\n",
        "print(s)\n",
        "area=(s*(s-a)*(s-b)*(s-c))**0.5\n",
        "print(\"area of triangle is %0.2f\"%area)"
      ],
      "execution_count": 37,
      "outputs": [
        {
          "output_type": "stream",
          "text": [
            "Enter side1:3\n",
            "Enter side2:4\n",
            "Enter side3:5\n",
            "6.0\n",
            "area of triangle is 6.00\n"
          ],
          "name": "stdout"
        }
      ]
    },
    {
      "cell_type": "markdown",
      "metadata": {
        "id": "16wp518GSMK5",
        "colab_type": "text"
      },
      "source": [
        "2.\tTake a string from end user and check if the value is palindrome or not"
      ]
    },
    {
      "cell_type": "code",
      "metadata": {
        "id": "detQqu2WQ8PR",
        "colab_type": "code",
        "colab": {
          "base_uri": "https://localhost:8080/",
          "height": 51
        },
        "outputId": "b4dba416-5b14-4df4-cbc1-abc5d7bcd310"
      },
      "source": [
        "s=str(input())\n",
        "if s is s[::1]:\n",
        "  print(\" palindrome\")\n",
        "else :\n",
        "  print(\" not palindrome\")"
      ],
      "execution_count": 40,
      "outputs": [
        {
          "output_type": "stream",
          "text": [
            "malayalam\n",
            " palindrome\n"
          ],
          "name": "stdout"
        }
      ]
    },
    {
      "cell_type": "markdown",
      "metadata": {
        "id": "oP-MhipsVWlV",
        "colab_type": "text"
      },
      "source": [
        "3.\tWrite a program that reads a year from the user and displays a message Indicating whether or not it is a leap year."
      ]
    },
    {
      "cell_type": "code",
      "metadata": {
        "id": "ngepkxiHVZ0o",
        "colab_type": "code",
        "colab": {
          "base_uri": "https://localhost:8080/",
          "height": 51
        },
        "outputId": "72c1873d-7aac-4af3-d17f-754f2ccd698e"
      },
      "source": [
        "year = int(input(\"Enter year: \"))\n",
        "if (year % 4) == 0:\n",
        "   if (year % 100) == 0:\n",
        "       if (year % 400) == 0:\n",
        "           print(\"{0} is a leap year\".format(year))\n",
        "       else:\n",
        "           print(\"{0} is not a leap year\".format(year))\n",
        "   else:\n",
        "       print(\"{0} is a leap year\".format(year))\n",
        "else:\n",
        "   print(\"{0} is not a leap year\".format(year))"
      ],
      "execution_count": 36,
      "outputs": [
        {
          "output_type": "stream",
          "text": [
            "Enter year: 2000\n",
            "2000 is a leap year\n"
          ],
          "name": "stdout"
        }
      ]
    },
    {
      "cell_type": "markdown",
      "metadata": {
        "id": "W4gzTnIEYBgP",
        "colab_type": "text"
      },
      "source": [
        "4.\t Space To Hyphen problem \n",
        "Take a string as input, and replaces spaces “ “  with hyphens “-”, and returns a string.\n",
        "Input: “ This program converts spaces into hyphen”\n",
        "      Output:     “ This-program-converts-spaces-into-hyphen”\n"
      ]
    },
    {
      "cell_type": "code",
      "metadata": {
        "id": "ltc_aWTZYBD5",
        "colab_type": "code",
        "colab": {
          "base_uri": "https://localhost:8080/",
          "height": 51
        },
        "outputId": "8be23f6e-eda3-481c-9c15-d4de048ac04e"
      },
      "source": [
        "a=str(input(\"enter a string \"))\n",
        "print(a.replace(\" \",\"-\"))\n",
        "  "
      ],
      "execution_count": 53,
      "outputs": [
        {
          "output_type": "stream",
          "text": [
            "enter a string the future google ceo\n",
            "the-future-google-ceo\n"
          ],
          "name": "stdout"
        }
      ]
    },
    {
      "cell_type": "markdown",
      "metadata": {
        "id": "eJ99bbbRfwBY",
        "colab_type": "text"
      },
      "source": [
        "5.\tUnique Sort problem \n",
        "Take a string as input that accepts a comma separated sequence of words as input and prints the unique words in sorted form (alphanumerically).\n",
        "*Input*: orange, white, red, cyan, green, magenta, cyan, pink, white\n",
        "*Output*: cyan, green, magenta, orange, pink, red, white\n"
      ]
    },
    {
      "cell_type": "code",
      "metadata": {
        "id": "JEpHgOf5fxIX",
        "colab_type": "code",
        "colab": {
          "base_uri": "https://localhost:8080/",
          "height": 51
        },
        "outputId": "09be3197-a52a-4b21-9034-73b4f9ea0328"
      },
      "source": [
        "yo=str(input(\"enter string \"))\n",
        "print(sorted(set(yo.split(\",\"))))"
      ],
      "execution_count": 54,
      "outputs": [
        {
          "output_type": "stream",
          "text": [
            "enter string zeebra,yuvraj,dhoni,anderson,miraj,siraj.virat,sachintendulkar,thrishul,achu\n",
            "['achu', 'anderson', 'dhoni', 'miraj', 'sachintendulkar', 'siraj.virat', 'thrishul', 'yuvraj', 'zeebra']\n"
          ],
          "name": "stdout"
        }
      ]
    },
    {
      "cell_type": "markdown",
      "metadata": {
        "id": "XKwkQlOmgesS",
        "colab_type": "text"
      },
      "source": [
        "6.\tTax Calculator\n",
        "Ask the user for their monthly salary. Calculate whether they have to pay tax and if so, how much is that amount .Print the result\n",
        "\n"
      ]
    },
    {
      "cell_type": "code",
      "metadata": {
        "id": "qfpB-1TPgsV5",
        "colab_type": "code",
        "colab": {}
      },
      "source": [
        "s=int(input(\"Enter montly salary:\"))\n",
        "if s<=250000:\n",
        "  print(\"No tax\")\n",
        "elif 250001<=s and s<=500000:\n",
        "  print(\"Tax rate is 5%\")\n",
        "  print(\"Tax amount=\",(s*5)/100)\n",
        "elif 500001<=s and s<=750000:\n",
        "  print(\"Tax rate is 10%\")\n",
        "  print(\"Tax amount=\",(s*10)/100)\n",
        "elif 750001<=s and s<=1000000:\n",
        "  print(\"Tax rate is 15%\")\n",
        "  print(\"Tax amount=\",(s*15)/100)\n",
        "elif 1000001<=s and s<=1250000:\n",
        "  print(\"Tax rate is 20%\")\n",
        "  print(\"Tax amount=\",(s*20)/100)\n",
        "elif 1250001<=s and s<=1500000:\n",
        "  print(\"Tax rate is 25%\")\n",
        "  print(\"Tax amount=\",(s*25)/100)\n",
        "else:\n",
        "  print(\"Tax is 30%\")\n",
        "  print(\"Tax amount=\",(s*30)/100)"
      ],
      "execution_count": null,
      "outputs": []
    },
    {
      "cell_type": "markdown",
      "metadata": {
        "id": "CHMxGEl4hEBU",
        "colab_type": "text"
      },
      "source": [
        "7.\tTake a list of integers as an argument, and converts it into a single integer (return the integer).\n",
        "*Input*: [11, 33, 50]\n",
        "*Output*: 113350\n"
      ]
    },
    {
      "cell_type": "code",
      "metadata": {
        "id": "MJqthd-3hIXA",
        "colab_type": "code",
        "colab": {
          "base_uri": "https://localhost:8080/",
          "height": 34
        },
        "outputId": "fdf35c25-ae0d-458e-bb72-dea31680bdeb"
      },
      "source": [
        "list=[11,33,50]\n",
        "for i in list:\n",
        "  print(i,end=\"\")"
      ],
      "execution_count": 59,
      "outputs": [
        {
          "output_type": "stream",
          "text": [
            "113350"
          ],
          "name": "stdout"
        }
      ]
    },
    {
      "cell_type": "markdown",
      "metadata": {
        "id": "yiu6OB3UhvwY",
        "colab_type": "text"
      },
      "source": [
        "\n",
        "8.\tUnits of Time\n",
        "Create a program that reads duration from the user as a number of days, hours, minutes, and seconds. Compute and display the total number of seconds represented by this duration. \n"
      ]
    },
    {
      "cell_type": "code",
      "metadata": {
        "id": "qSVAJL0ohwij",
        "colab_type": "code",
        "colab": {
          "base_uri": "https://localhost:8080/",
          "height": 102
        },
        "outputId": "584f46e7-6526-4c15-801c-b8c1e5daabe6"
      },
      "source": [
        "days=int(input(\"enter days \"))\n",
        "hrs=int(input(\"enter hours \"))\n",
        "min=int(input(\"enter minutes \"))\n",
        "sec=int(input(\"enter seconds \"))\n",
        "print((days*86400)+(hrs*3600)+(min*60)+sec)   "
      ],
      "execution_count": 60,
      "outputs": [
        {
          "output_type": "stream",
          "text": [
            "enter days 1\n",
            "enter hours 1\n",
            "enter minutes 1\n",
            "enter seconds 1\n",
            "90061\n"
          ],
          "name": "stdout"
        }
      ]
    },
    {
      "cell_type": "markdown",
      "metadata": {
        "id": "xhbzp8Gvi_2i",
        "colab_type": "text"
      },
      "source": [
        "9.\tSort 3 Integers : \n",
        "Given three integers (given through user input), sort the numbers using |min| and  |max| functions.\n"
      ]
    },
    {
      "cell_type": "code",
      "metadata": {
        "id": "atDjW1dUjTZy",
        "colab_type": "code",
        "colab": {
          "base_uri": "https://localhost:8080/",
          "height": 34
        },
        "outputId": "38b533b5-1ffd-4571-c5d4-fe55b8923585"
      },
      "source": [
        "num=[1,11,3]\n",
        "sorted=[]\n",
        "for i in range(3):\n",
        "  x=max(num)\n",
        "  num.remove(x)\n",
        "  sorted.append(x)\n",
        "print(sorted)"
      ],
      "execution_count": 69,
      "outputs": [
        {
          "output_type": "stream",
          "text": [
            "[11, 3, 1]\n"
          ],
          "name": "stdout"
        }
      ]
    },
    {
      "cell_type": "markdown",
      "metadata": {
        "id": "OVe4zkrukmnn",
        "colab_type": "text"
      },
      "source": [
        "10.\tWrite a program that reads a date from the user and computes its immediate successor. The date is the format YYYY-MM-DD. So, 2020-04-15 will have the successor 2020-04-16."
      ]
    },
    {
      "cell_type": "code",
      "metadata": {
        "id": "8EvP7TNaknU0",
        "colab_type": "code",
        "colab": {
          "base_uri": "https://localhost:8080/",
          "height": 85
        },
        "outputId": "58dcb229-b619-477e-f3fc-701f510664fe"
      },
      "source": [
        "year=int(input(\"enter year \"))\n",
        "month=int(input(\"enter month \"))\n",
        "date=int(input(\"enter date \"))\n",
        "if year%4==0 and year%100!=0 or year%400==0:\n",
        "  if month==2:\n",
        "    month_len=29\n",
        "  else:\n",
        "    month_len=28\n",
        "elif month in (1,3,5,7,8,10,12):\n",
        "  month_len=31\n",
        "else:\n",
        "  month_len=30\n",
        "if date<month_len:\n",
        "  date+=1\n",
        "else:\n",
        "  date=1\n",
        "  if month==12:\n",
        "    month=1\n",
        "    year+=1\n",
        "  else:\n",
        "    month+=1\n",
        "print(year,\"-\",month,\"-\",date)"
      ],
      "execution_count": 72,
      "outputs": [
        {
          "output_type": "stream",
          "text": [
            "enter year 2020\n",
            "enter month 2\n",
            "enter date 30\n",
            "2020 - 3 - 1\n"
          ],
          "name": "stdout"
        }
      ]
    },
    {
      "cell_type": "markdown",
      "metadata": {
        "id": "txZStVaKlBNF",
        "colab_type": "text"
      },
      "source": [
        "11.\tCompute product of a list of numbers [45 ,3,2,89,72,1,10,7]\n",
        "Output: 121111200\n"
      ]
    },
    {
      "cell_type": "code",
      "metadata": {
        "id": "iRUsw3m-lFIg",
        "colab_type": "code",
        "colab": {
          "base_uri": "https://localhost:8080/",
          "height": 34
        },
        "outputId": "19686c37-9b61-4c32-978a-79534d6c88e4"
      },
      "source": [
        "lst=[45,3,2,89,72,1,10,7]\n",
        "p=1\n",
        "for i in range(len(lst)):\n",
        "  p=p*lst[i]\n",
        "print(p)\n"
      ],
      "execution_count": 70,
      "outputs": [
        {
          "output_type": "stream",
          "text": [
            "121111200\n"
          ],
          "name": "stdout"
        }
      ]
    },
    {
      "cell_type": "markdown",
      "metadata": {
        "id": "y8eu316KlPj2",
        "colab_type": "text"
      },
      "source": [
        "12.\tCompute given Num_list =  [5, 6,8 ,34,89,1] to get desired output\n",
        "Output: Out_list=[11,14,42,123,90]\n"
      ]
    },
    {
      "cell_type": "code",
      "metadata": {
        "id": "0nAyTSf4mBcw",
        "colab_type": "code",
        "colab": {}
      },
      "source": [
        "l=[5,6,8,34,89,1]\n",
        "Out_list=[]\n",
        "for i in range(len(l)-1):\n",
        "    ol=l[i]+l[i+1]\n",
        "    Out_list.append(ol)\n",
        "print(\"Out_list=\",Out_list)"
      ],
      "execution_count": null,
      "outputs": []
    },
    {
      "cell_type": "markdown",
      "metadata": {
        "id": "olaat9HNr6Ub",
        "colab_type": "text"
      },
      "source": [
        "13.\t Compute given Num_tuple =  (5, 6,8 ,3,9,1) to get desired output\n",
        "Output: Out_list = [5, 30, 240, 720, 6480, 6480]\n"
      ]
    },
    {
      "cell_type": "code",
      "metadata": {
        "id": "RTNMsuBOr6Ei",
        "colab_type": "code",
        "colab": {
          "base_uri": "https://localhost:8080/",
          "height": 34
        },
        "outputId": "c85c1aed-43b5-4a31-b5a0-d605f42e14d9"
      },
      "source": [
        "a=(5,6,8,3,9,1)\n",
        "out_list=[]\n",
        "out_list.append(a[0])\n",
        "for i in range(len(a)-1):\n",
        "  x=out_list[i]*a[i+1]\n",
        "  out_list.append(x)\n",
        "print(\"out_list= \",out_list)"
      ],
      "execution_count": 74,
      "outputs": [
        {
          "output_type": "stream",
          "text": [
            "out_list=  [5, 30, 240, 720, 6480, 6480]\n"
          ],
          "name": "stdout"
        }
      ]
    },
    {
      "cell_type": "markdown",
      "metadata": {
        "id": "eD1Nt9rVscxn",
        "colab_type": "text"
      },
      "source": [
        "14.\t Write a Python code that takes a number and returns a list of its digits. So for 586392 it should return [5,8,6,3,9,2]"
      ]
    },
    {
      "cell_type": "code",
      "metadata": {
        "id": "8KSmUuhDsgzb",
        "colab_type": "code",
        "colab": {
          "base_uri": "https://localhost:8080/",
          "height": 51
        },
        "outputId": "44dd9282-69d3-4d3a-fd6b-b9f3edcb33bd"
      },
      "source": [
        "a=int(input(\"enter number \"))\n",
        "a=str(a)\n",
        "lst=list(a)\n",
        "for i in range(len(lst)):\n",
        "  lst[i]=int(lst[i])\n",
        "print(lst)"
      ],
      "execution_count": 73,
      "outputs": [
        {
          "output_type": "stream",
          "text": [
            "enter number 1234567876543\n",
            "[1, 2, 3, 4, 5, 6, 7, 8, 7, 6, 5, 4, 3]\n"
          ],
          "name": "stdout"
        }
      ]
    },
    {
      "cell_type": "markdown",
      "metadata": {
        "id": "UONCKp-us9t7",
        "colab_type": "text"
      },
      "source": [
        "15.\tWrite a program that finds the longest palindromic substring of a given string"
      ]
    },
    {
      "cell_type": "code",
      "metadata": {
        "id": "sxGmturds_V9",
        "colab_type": "code",
        "colab": {}
      },
      "source": [
        "\n",
        "def longestpalindrome(n):\n",
        "    d=[[False for i in range(len(n))] for i in range(len(n))]\n",
        "    for i in range(len(n)):\n",
        "        d[i][i]=True\n",
        "    maxlen=1\n",
        "    start=0\n",
        "    for j in range(2,len(n)+1):\n",
        "        for i in range(len(n)-j+1):\n",
        "            end=i+j\n",
        "            if j==2:\n",
        "                if n[i]==n[end-1]:\n",
        "                    d[i][end-1]=True\n",
        "                    maxlen=j\n",
        "                    start=i\n",
        "            else:\n",
        "                if n[i]==n[end-1] and d[i+1][end-2]:\n",
        "                    d[i][end-1]=True\n",
        "                    maxlen=j\n",
        "                    start=i\n",
        "    return n[start:start+maxlen]\n",
        "n=input(\"Enter a string : \")\n",
        "print(longestpalindrome(n))"
      ],
      "execution_count": null,
      "outputs": []
    },
    {
      "cell_type": "markdown",
      "metadata": {
        "id": "s2Z99AE0tS57",
        "colab_type": "text"
      },
      "source": [
        "16.\t Substring Check (Bug Funny)\n",
        "Given two binary strings, A (of length 10) and B (of length 5), output 1 if B is a substring of A and 0 otherwise.\n",
        "First two lines of input:\n",
        "\n",
        "1010110010          10110\n",
        "1110111011           10011\n",
        "First two lines of output:\n",
        "1\n",
        "0\n"
      ]
    },
    {
      "cell_type": "code",
      "metadata": {
        "id": "Mpk1lLN5tSdc",
        "colab_type": "code",
        "colab": {}
      },
      "source": [
        "\n",
        "a=input(\"enter digit \")\n",
        "b=input(\"enter digit \")\n",
        "if b in a:\n",
        "  print(\"1\")\n",
        "else:\n",
        "  print(\"0\")"
      ],
      "execution_count": null,
      "outputs": []
    },
    {
      "cell_type": "markdown",
      "metadata": {
        "id": "Or6HXNDmtv5Z",
        "colab_type": "text"
      },
      "source": [
        "17.\t  POUR1 - Pouring water\n",
        "Given two vessels, one of which can accommodate a litres of water and the other - b litres of water, determine the number of steps required to obtain exactly c litres of water in one of the vessels.\n",
        "At the beginning both vessels are empty. The following operations are counted as 'steps':\n",
        "•\temptying a vessel,\n",
        "•\tfilling a vessel,\n",
        "•\tpouring water from one vessel to the other, without spilling, until one of the vessels is either full or empty.\n",
        "Input\n",
        "An integer t, 1<=t<=100, denoting the number of testcases , followed by t sets of input data, each consisting of three positive integers a, b, c, not larger than 40000, given in separate lines.\n",
        "Output\n",
        "For each set of input data, output the minimum number of steps required to obtain c litres, or -1 if this is impossible.\n"
      ]
    },
    {
      "cell_type": "code",
      "metadata": {
        "id": "D6SoxLXjtwpQ",
        "colab_type": "code",
        "colab": {}
      },
      "source": [
        "def gcd(a,b):\n",
        "    if b==0: \n",
        "        return a \n",
        "    return gcd(b,a%b) \n",
        "def countsteps(a,b,c): \n",
        "    v1=b\n",
        "    v2=0\n",
        "    count=1\n",
        "    while ((v1 is not c) and (v2 is not c)): \n",
        "        temp=min(v1,a-v2) \n",
        "        v2=v2+temp \n",
        "        v1=v1-temp \n",
        "        count=count+1\n",
        "        if ((v2==c)or(v1==c)): \n",
        "            break\n",
        "        if v1==0: \n",
        "            v1=b \n",
        "            count=count+1\n",
        "        if v2==a: \n",
        "            v2=0\n",
        "            count=count+1\n",
        "    return count \n",
        "def ispossible(a,b,c): \n",
        "    if a>b: \n",
        "        temp=a \n",
        "        a=b \n",
        "        b=temp \n",
        "    if c>b: \n",
        "        return -1\n",
        "    if (c%(gcd(b,a)) is not 0): \n",
        "        return -1\n",
        "    return(min(countsteps(b,a,c),countsteps(a,b,c)))\n",
        "t=int(input(\"Enter no of testcases : \"))\n",
        "for i in range(t):\n",
        "  a=int(input(\"Enter capacity of vessel a : \"))\n",
        "  b=int(input(\"Enter capacity of vessel b : \"))\n",
        "  c=int(input(\"Enter capacity to be obtained :\"))\n",
        "  print(\"Minimum number of steps required is : \",ispossible(a,b,c))"
      ],
      "execution_count": null,
      "outputs": []
    }
  ]
}